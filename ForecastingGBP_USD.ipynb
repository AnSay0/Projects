{
  "nbformat": 4,
  "nbformat_minor": 0,
  "metadata": {
    "colab": {
      "provenance": [],
      "include_colab_link": true
    },
    "kernelspec": {
      "name": "python3",
      "display_name": "Python 3"
    },
    "language_info": {
      "name": "python"
    },
    "accelerator": "GPU",
    "gpuClass": "standard"
  },
  "cells": [
    {
      "cell_type": "markdown",
      "metadata": {
        "id": "view-in-github",
        "colab_type": "text"
      },
      "source": [
        "<a href=\"https://colab.research.google.com/github/AnSay0/Projects/blob/AI/ForecastingGBP_USD.ipynb\" target=\"_parent\"><img src=\"https://colab.research.google.com/assets/colab-badge.svg\" alt=\"Open In Colab\"/></a>"
      ]
    },
    {
      "cell_type": "code",
      "execution_count": null,
      "metadata": {
        "id": "oRCNimqZar3S"
      },
      "outputs": [],
      "source": [
        "import pandas as pd\n",
        "import numpy as np\n",
        "\n",
        "import matplotlib.pyplot as plt\n",
        "import seaborn as sns\n",
        "sns.set_style('whitegrid')\n",
        "plt.style.use(\"fivethirtyeight\")\n",
        "%matplotlib inline"
      ]
    },
    {
      "cell_type": "code",
      "source": [
        "import numpy as np\n",
        "import pandas as pd\n",
        "data = pd.read_csv(r'/content/DAT_MT_GBPUSD_M1_2021.csv', names=[\"time\", \"open\", \"high\", \"low\", \"close\", \"volume\"])\n",
        "data.reset_index(inplace=True)\n",
        "data.drop('volume', axis=1, inplace=True)\n",
        "data.rename(columns={'index':'date'}, inplace=True)\n",
        "data['date'] = data['date'].apply(lambda x: x[5:])\n",
        "data.head(-1)"
      ],
      "metadata": {
        "colab": {
          "base_uri": "https://localhost:8080/",
          "height": 424
        },
        "id": "3KghjlXQb6l8",
        "outputId": "496e3fa3-02a0-4c86-9730-6e5e55a24bb1"
      },
      "execution_count": null,
      "outputs": [
        {
          "output_type": "execute_result",
          "data": {
            "text/plain": [
              "         date   time     open     high      low    close\n",
              "0       01.03  17:00  1.36455  1.36502  1.36455  1.36470\n",
              "1       01.03  17:01  1.36479  1.36500  1.36471  1.36495\n",
              "2       01.03  17:02  1.36494  1.36512  1.36494  1.36505\n",
              "3       01.03  17:03  1.36511  1.36511  1.36505  1.36508\n",
              "4       01.03  17:04  1.36505  1.36515  1.36488  1.36492\n",
              "...       ...    ...      ...      ...      ...      ...\n",
              "370392  12.31  16:53  1.35265  1.35286  1.35265  1.35280\n",
              "370393  12.31  16:54  1.35280  1.35280  1.35227  1.35239\n",
              "370394  12.31  16:55  1.35241  1.35259  1.35239  1.35239\n",
              "370395  12.31  16:56  1.35240  1.35245  1.35203  1.35218\n",
              "370396  12.31  16:57  1.35218  1.35245  1.35189  1.35193\n",
              "\n",
              "[370397 rows x 6 columns]"
            ],
            "text/html": [
              "\n",
              "  <div id=\"df-8ce86cd0-3117-4df1-b4a8-28072da232aa\">\n",
              "    <div class=\"colab-df-container\">\n",
              "      <div>\n",
              "<style scoped>\n",
              "    .dataframe tbody tr th:only-of-type {\n",
              "        vertical-align: middle;\n",
              "    }\n",
              "\n",
              "    .dataframe tbody tr th {\n",
              "        vertical-align: top;\n",
              "    }\n",
              "\n",
              "    .dataframe thead th {\n",
              "        text-align: right;\n",
              "    }\n",
              "</style>\n",
              "<table border=\"1\" class=\"dataframe\">\n",
              "  <thead>\n",
              "    <tr style=\"text-align: right;\">\n",
              "      <th></th>\n",
              "      <th>date</th>\n",
              "      <th>time</th>\n",
              "      <th>open</th>\n",
              "      <th>high</th>\n",
              "      <th>low</th>\n",
              "      <th>close</th>\n",
              "    </tr>\n",
              "  </thead>\n",
              "  <tbody>\n",
              "    <tr>\n",
              "      <th>0</th>\n",
              "      <td>01.03</td>\n",
              "      <td>17:00</td>\n",
              "      <td>1.36455</td>\n",
              "      <td>1.36502</td>\n",
              "      <td>1.36455</td>\n",
              "      <td>1.36470</td>\n",
              "    </tr>\n",
              "    <tr>\n",
              "      <th>1</th>\n",
              "      <td>01.03</td>\n",
              "      <td>17:01</td>\n",
              "      <td>1.36479</td>\n",
              "      <td>1.36500</td>\n",
              "      <td>1.36471</td>\n",
              "      <td>1.36495</td>\n",
              "    </tr>\n",
              "    <tr>\n",
              "      <th>2</th>\n",
              "      <td>01.03</td>\n",
              "      <td>17:02</td>\n",
              "      <td>1.36494</td>\n",
              "      <td>1.36512</td>\n",
              "      <td>1.36494</td>\n",
              "      <td>1.36505</td>\n",
              "    </tr>\n",
              "    <tr>\n",
              "      <th>3</th>\n",
              "      <td>01.03</td>\n",
              "      <td>17:03</td>\n",
              "      <td>1.36511</td>\n",
              "      <td>1.36511</td>\n",
              "      <td>1.36505</td>\n",
              "      <td>1.36508</td>\n",
              "    </tr>\n",
              "    <tr>\n",
              "      <th>4</th>\n",
              "      <td>01.03</td>\n",
              "      <td>17:04</td>\n",
              "      <td>1.36505</td>\n",
              "      <td>1.36515</td>\n",
              "      <td>1.36488</td>\n",
              "      <td>1.36492</td>\n",
              "    </tr>\n",
              "    <tr>\n",
              "      <th>...</th>\n",
              "      <td>...</td>\n",
              "      <td>...</td>\n",
              "      <td>...</td>\n",
              "      <td>...</td>\n",
              "      <td>...</td>\n",
              "      <td>...</td>\n",
              "    </tr>\n",
              "    <tr>\n",
              "      <th>370392</th>\n",
              "      <td>12.31</td>\n",
              "      <td>16:53</td>\n",
              "      <td>1.35265</td>\n",
              "      <td>1.35286</td>\n",
              "      <td>1.35265</td>\n",
              "      <td>1.35280</td>\n",
              "    </tr>\n",
              "    <tr>\n",
              "      <th>370393</th>\n",
              "      <td>12.31</td>\n",
              "      <td>16:54</td>\n",
              "      <td>1.35280</td>\n",
              "      <td>1.35280</td>\n",
              "      <td>1.35227</td>\n",
              "      <td>1.35239</td>\n",
              "    </tr>\n",
              "    <tr>\n",
              "      <th>370394</th>\n",
              "      <td>12.31</td>\n",
              "      <td>16:55</td>\n",
              "      <td>1.35241</td>\n",
              "      <td>1.35259</td>\n",
              "      <td>1.35239</td>\n",
              "      <td>1.35239</td>\n",
              "    </tr>\n",
              "    <tr>\n",
              "      <th>370395</th>\n",
              "      <td>12.31</td>\n",
              "      <td>16:56</td>\n",
              "      <td>1.35240</td>\n",
              "      <td>1.35245</td>\n",
              "      <td>1.35203</td>\n",
              "      <td>1.35218</td>\n",
              "    </tr>\n",
              "    <tr>\n",
              "      <th>370396</th>\n",
              "      <td>12.31</td>\n",
              "      <td>16:57</td>\n",
              "      <td>1.35218</td>\n",
              "      <td>1.35245</td>\n",
              "      <td>1.35189</td>\n",
              "      <td>1.35193</td>\n",
              "    </tr>\n",
              "  </tbody>\n",
              "</table>\n",
              "<p>370397 rows × 6 columns</p>\n",
              "</div>\n",
              "      <button class=\"colab-df-convert\" onclick=\"convertToInteractive('df-8ce86cd0-3117-4df1-b4a8-28072da232aa')\"\n",
              "              title=\"Convert this dataframe to an interactive table.\"\n",
              "              style=\"display:none;\">\n",
              "        \n",
              "  <svg xmlns=\"http://www.w3.org/2000/svg\" height=\"24px\"viewBox=\"0 0 24 24\"\n",
              "       width=\"24px\">\n",
              "    <path d=\"M0 0h24v24H0V0z\" fill=\"none\"/>\n",
              "    <path d=\"M18.56 5.44l.94 2.06.94-2.06 2.06-.94-2.06-.94-.94-2.06-.94 2.06-2.06.94zm-11 1L8.5 8.5l.94-2.06 2.06-.94-2.06-.94L8.5 2.5l-.94 2.06-2.06.94zm10 10l.94 2.06.94-2.06 2.06-.94-2.06-.94-.94-2.06-.94 2.06-2.06.94z\"/><path d=\"M17.41 7.96l-1.37-1.37c-.4-.4-.92-.59-1.43-.59-.52 0-1.04.2-1.43.59L10.3 9.45l-7.72 7.72c-.78.78-.78 2.05 0 2.83L4 21.41c.39.39.9.59 1.41.59.51 0 1.02-.2 1.41-.59l7.78-7.78 2.81-2.81c.8-.78.8-2.07 0-2.86zM5.41 20L4 18.59l7.72-7.72 1.47 1.35L5.41 20z\"/>\n",
              "  </svg>\n",
              "      </button>\n",
              "      \n",
              "  <style>\n",
              "    .colab-df-container {\n",
              "      display:flex;\n",
              "      flex-wrap:wrap;\n",
              "      gap: 12px;\n",
              "    }\n",
              "\n",
              "    .colab-df-convert {\n",
              "      background-color: #E8F0FE;\n",
              "      border: none;\n",
              "      border-radius: 50%;\n",
              "      cursor: pointer;\n",
              "      display: none;\n",
              "      fill: #1967D2;\n",
              "      height: 32px;\n",
              "      padding: 0 0 0 0;\n",
              "      width: 32px;\n",
              "    }\n",
              "\n",
              "    .colab-df-convert:hover {\n",
              "      background-color: #E2EBFA;\n",
              "      box-shadow: 0px 1px 2px rgba(60, 64, 67, 0.3), 0px 1px 3px 1px rgba(60, 64, 67, 0.15);\n",
              "      fill: #174EA6;\n",
              "    }\n",
              "\n",
              "    [theme=dark] .colab-df-convert {\n",
              "      background-color: #3B4455;\n",
              "      fill: #D2E3FC;\n",
              "    }\n",
              "\n",
              "    [theme=dark] .colab-df-convert:hover {\n",
              "      background-color: #434B5C;\n",
              "      box-shadow: 0px 1px 3px 1px rgba(0, 0, 0, 0.15);\n",
              "      filter: drop-shadow(0px 1px 2px rgba(0, 0, 0, 0.3));\n",
              "      fill: #FFFFFF;\n",
              "    }\n",
              "  </style>\n",
              "\n",
              "      <script>\n",
              "        const buttonEl =\n",
              "          document.querySelector('#df-8ce86cd0-3117-4df1-b4a8-28072da232aa button.colab-df-convert');\n",
              "        buttonEl.style.display =\n",
              "          google.colab.kernel.accessAllowed ? 'block' : 'none';\n",
              "\n",
              "        async function convertToInteractive(key) {\n",
              "          const element = document.querySelector('#df-8ce86cd0-3117-4df1-b4a8-28072da232aa');\n",
              "          const dataTable =\n",
              "            await google.colab.kernel.invokeFunction('convertToInteractive',\n",
              "                                                     [key], {});\n",
              "          if (!dataTable) return;\n",
              "\n",
              "          const docLinkHtml = 'Like what you see? Visit the ' +\n",
              "            '<a target=\"_blank\" href=https://colab.research.google.com/notebooks/data_table.ipynb>data table notebook</a>'\n",
              "            + ' to learn more about interactive tables.';\n",
              "          element.innerHTML = '';\n",
              "          dataTable['output_type'] = 'display_data';\n",
              "          await google.colab.output.renderOutput(dataTable, element);\n",
              "          const docLink = document.createElement('div');\n",
              "          docLink.innerHTML = docLinkHtml;\n",
              "          element.appendChild(docLink);\n",
              "        }\n",
              "      </script>\n",
              "    </div>\n",
              "  </div>\n",
              "  "
            ]
          },
          "metadata": {},
          "execution_count": 2
        }
      ]
    },
    {
      "cell_type": "code",
      "source": [
        "data['idx'] = (np.array([str(i%5) for i in range(data.shape[0])]))\n",
        "data['idx'] = data['idx'].astype('int64')\n",
        "data = data.loc[data['idx'] == 4]\n",
        "data.drop(\"idx\", axis=1, inplace=True)\n",
        "data.head()"
      ],
      "metadata": {
        "colab": {
          "base_uri": "https://localhost:8080/",
          "height": 313
        },
        "id": "_IxRb-TGcBLL",
        "outputId": "66940843-fb73-4744-94a1-ec78583444b4"
      },
      "execution_count": null,
      "outputs": [
        {
          "output_type": "stream",
          "name": "stderr",
          "text": [
            "/usr/local/lib/python3.7/dist-packages/pandas/core/frame.py:4913: SettingWithCopyWarning: \n",
            "A value is trying to be set on a copy of a slice from a DataFrame\n",
            "\n",
            "See the caveats in the documentation: https://pandas.pydata.org/pandas-docs/stable/user_guide/indexing.html#returning-a-view-versus-a-copy\n",
            "  errors=errors,\n"
          ]
        },
        {
          "output_type": "execute_result",
          "data": {
            "text/plain": [
              "     date   time     open     high      low    close\n",
              "4   01.03  17:04  1.36505  1.36515  1.36488  1.36492\n",
              "9   01.03  17:09  1.36486  1.36490  1.36480  1.36487\n",
              "14  01.03  17:14  1.36489  1.36490  1.36489  1.36490\n",
              "19  01.03  17:19  1.36489  1.36493  1.36488  1.36489\n",
              "24  01.03  17:24  1.36550  1.36551  1.36537  1.36537"
            ],
            "text/html": [
              "\n",
              "  <div id=\"df-1b5f6eaf-b248-4f5b-b1c9-e5e617ce722a\">\n",
              "    <div class=\"colab-df-container\">\n",
              "      <div>\n",
              "<style scoped>\n",
              "    .dataframe tbody tr th:only-of-type {\n",
              "        vertical-align: middle;\n",
              "    }\n",
              "\n",
              "    .dataframe tbody tr th {\n",
              "        vertical-align: top;\n",
              "    }\n",
              "\n",
              "    .dataframe thead th {\n",
              "        text-align: right;\n",
              "    }\n",
              "</style>\n",
              "<table border=\"1\" class=\"dataframe\">\n",
              "  <thead>\n",
              "    <tr style=\"text-align: right;\">\n",
              "      <th></th>\n",
              "      <th>date</th>\n",
              "      <th>time</th>\n",
              "      <th>open</th>\n",
              "      <th>high</th>\n",
              "      <th>low</th>\n",
              "      <th>close</th>\n",
              "    </tr>\n",
              "  </thead>\n",
              "  <tbody>\n",
              "    <tr>\n",
              "      <th>4</th>\n",
              "      <td>01.03</td>\n",
              "      <td>17:04</td>\n",
              "      <td>1.36505</td>\n",
              "      <td>1.36515</td>\n",
              "      <td>1.36488</td>\n",
              "      <td>1.36492</td>\n",
              "    </tr>\n",
              "    <tr>\n",
              "      <th>9</th>\n",
              "      <td>01.03</td>\n",
              "      <td>17:09</td>\n",
              "      <td>1.36486</td>\n",
              "      <td>1.36490</td>\n",
              "      <td>1.36480</td>\n",
              "      <td>1.36487</td>\n",
              "    </tr>\n",
              "    <tr>\n",
              "      <th>14</th>\n",
              "      <td>01.03</td>\n",
              "      <td>17:14</td>\n",
              "      <td>1.36489</td>\n",
              "      <td>1.36490</td>\n",
              "      <td>1.36489</td>\n",
              "      <td>1.36490</td>\n",
              "    </tr>\n",
              "    <tr>\n",
              "      <th>19</th>\n",
              "      <td>01.03</td>\n",
              "      <td>17:19</td>\n",
              "      <td>1.36489</td>\n",
              "      <td>1.36493</td>\n",
              "      <td>1.36488</td>\n",
              "      <td>1.36489</td>\n",
              "    </tr>\n",
              "    <tr>\n",
              "      <th>24</th>\n",
              "      <td>01.03</td>\n",
              "      <td>17:24</td>\n",
              "      <td>1.36550</td>\n",
              "      <td>1.36551</td>\n",
              "      <td>1.36537</td>\n",
              "      <td>1.36537</td>\n",
              "    </tr>\n",
              "  </tbody>\n",
              "</table>\n",
              "</div>\n",
              "      <button class=\"colab-df-convert\" onclick=\"convertToInteractive('df-1b5f6eaf-b248-4f5b-b1c9-e5e617ce722a')\"\n",
              "              title=\"Convert this dataframe to an interactive table.\"\n",
              "              style=\"display:none;\">\n",
              "        \n",
              "  <svg xmlns=\"http://www.w3.org/2000/svg\" height=\"24px\"viewBox=\"0 0 24 24\"\n",
              "       width=\"24px\">\n",
              "    <path d=\"M0 0h24v24H0V0z\" fill=\"none\"/>\n",
              "    <path d=\"M18.56 5.44l.94 2.06.94-2.06 2.06-.94-2.06-.94-.94-2.06-.94 2.06-2.06.94zm-11 1L8.5 8.5l.94-2.06 2.06-.94-2.06-.94L8.5 2.5l-.94 2.06-2.06.94zm10 10l.94 2.06.94-2.06 2.06-.94-2.06-.94-.94-2.06-.94 2.06-2.06.94z\"/><path d=\"M17.41 7.96l-1.37-1.37c-.4-.4-.92-.59-1.43-.59-.52 0-1.04.2-1.43.59L10.3 9.45l-7.72 7.72c-.78.78-.78 2.05 0 2.83L4 21.41c.39.39.9.59 1.41.59.51 0 1.02-.2 1.41-.59l7.78-7.78 2.81-2.81c.8-.78.8-2.07 0-2.86zM5.41 20L4 18.59l7.72-7.72 1.47 1.35L5.41 20z\"/>\n",
              "  </svg>\n",
              "      </button>\n",
              "      \n",
              "  <style>\n",
              "    .colab-df-container {\n",
              "      display:flex;\n",
              "      flex-wrap:wrap;\n",
              "      gap: 12px;\n",
              "    }\n",
              "\n",
              "    .colab-df-convert {\n",
              "      background-color: #E8F0FE;\n",
              "      border: none;\n",
              "      border-radius: 50%;\n",
              "      cursor: pointer;\n",
              "      display: none;\n",
              "      fill: #1967D2;\n",
              "      height: 32px;\n",
              "      padding: 0 0 0 0;\n",
              "      width: 32px;\n",
              "    }\n",
              "\n",
              "    .colab-df-convert:hover {\n",
              "      background-color: #E2EBFA;\n",
              "      box-shadow: 0px 1px 2px rgba(60, 64, 67, 0.3), 0px 1px 3px 1px rgba(60, 64, 67, 0.15);\n",
              "      fill: #174EA6;\n",
              "    }\n",
              "\n",
              "    [theme=dark] .colab-df-convert {\n",
              "      background-color: #3B4455;\n",
              "      fill: #D2E3FC;\n",
              "    }\n",
              "\n",
              "    [theme=dark] .colab-df-convert:hover {\n",
              "      background-color: #434B5C;\n",
              "      box-shadow: 0px 1px 3px 1px rgba(0, 0, 0, 0.15);\n",
              "      filter: drop-shadow(0px 1px 2px rgba(0, 0, 0, 0.3));\n",
              "      fill: #FFFFFF;\n",
              "    }\n",
              "  </style>\n",
              "\n",
              "      <script>\n",
              "        const buttonEl =\n",
              "          document.querySelector('#df-1b5f6eaf-b248-4f5b-b1c9-e5e617ce722a button.colab-df-convert');\n",
              "        buttonEl.style.display =\n",
              "          google.colab.kernel.accessAllowed ? 'block' : 'none';\n",
              "\n",
              "        async function convertToInteractive(key) {\n",
              "          const element = document.querySelector('#df-1b5f6eaf-b248-4f5b-b1c9-e5e617ce722a');\n",
              "          const dataTable =\n",
              "            await google.colab.kernel.invokeFunction('convertToInteractive',\n",
              "                                                     [key], {});\n",
              "          if (!dataTable) return;\n",
              "\n",
              "          const docLinkHtml = 'Like what you see? Visit the ' +\n",
              "            '<a target=\"_blank\" href=https://colab.research.google.com/notebooks/data_table.ipynb>data table notebook</a>'\n",
              "            + ' to learn more about interactive tables.';\n",
              "          element.innerHTML = '';\n",
              "          dataTable['output_type'] = 'display_data';\n",
              "          await google.colab.output.renderOutput(dataTable, element);\n",
              "          const docLink = document.createElement('div');\n",
              "          docLink.innerHTML = docLinkHtml;\n",
              "          element.appendChild(docLink);\n",
              "        }\n",
              "      </script>\n",
              "    </div>\n",
              "  </div>\n",
              "  "
            ]
          },
          "metadata": {},
          "execution_count": 3
        }
      ]
    },
    {
      "cell_type": "code",
      "source": [
        "data[\"date\"] = data[\"date\"].astype('category')\n",
        "data[\"time\"] = data[\"time\"].astype('category')\n",
        "data[\"date\"] = data[\"date\"].cat.codes\n",
        "data[\"time\"] = data[\"time\"].cat.codes"
      ],
      "metadata": {
        "id": "5uEFrRrncB_7"
      },
      "execution_count": null,
      "outputs": []
    },
    {
      "cell_type": "code",
      "source": [
        "sz = 25000\n",
        "input = 1000\n",
        "output = 1000\n",
        "data = data[-sz:]\n",
        "data.shape"
      ],
      "metadata": {
        "colab": {
          "base_uri": "https://localhost:8080/"
        },
        "id": "BsFP4Ip6ft4L",
        "outputId": "ab3c4655-8f7f-4fd0-8294-6be0fb279087"
      },
      "execution_count": null,
      "outputs": [
        {
          "output_type": "execute_result",
          "data": {
            "text/plain": [
              "(25000, 6)"
            ]
          },
          "metadata": {},
          "execution_count": 5
        }
      ]
    },
    {
      "cell_type": "code",
      "source": [
        "from sklearn import preprocessing\n",
        "scaler2 = preprocessing.MinMaxScaler()\n",
        "scaler2.fit(data[\"close\"].values.reshape(-1, 1))\n",
        "scaler = preprocessing.MinMaxScaler()\n",
        "data = scaler.fit_transform(data)\n"
      ],
      "metadata": {
        "id": "5ClayNb9f7Qw"
      },
      "execution_count": null,
      "outputs": []
    },
    {
      "cell_type": "code",
      "source": [
        "# convert history into inputs and outputs\n",
        "def to_supervised(data, n_input, n_out):\n",
        "\t# flatten data\n",
        "\t#data = train.reshape((train.shape[0]*train.shape[1], train.shape[2]))\n",
        "\tX, y = list(), list()\n",
        "\tin_start = 0\n",
        "\t# step over the entire history one time step at a time\n",
        "\tfor _ in range(data.shape[0]):\n",
        "\t\t# define the end of the input sequence\n",
        "\t\tin_end = in_start + n_input\n",
        "\t\tout_end = in_end + n_out\n",
        "\t\t# ensure we have enough data for this instance\n",
        "\t\tif out_end <= data.shape[0]:\n",
        "\t\t\tx_input = data[in_start:in_end]\n",
        "\t\t\tx_input = x_input.reshape((x_input.shape))\n",
        "\t\t\tX.append(x_input)\n",
        "\t\t\ty.append(data[in_end:out_end, 5])\n",
        "\t\t# move along one time step\n",
        "\t\tin_start += 1\n",
        "\treturn np.array(X), np.array(y)\n",
        "\n",
        "x, y = to_supervised(data,input, output)"
      ],
      "metadata": {
        "id": "RF8aGf-ygMLP"
      },
      "execution_count": null,
      "outputs": []
    },
    {
      "cell_type": "code",
      "source": [
        "x_train = x[:-100]\n",
        "y_train = y[:-100]\n",
        "x_test = x[-100:]\n",
        "y_test = y[-100:]\n",
        "\n",
        "x_train.shape, y_train.shape, x_test.shape, y_test.shape\n"
      ],
      "metadata": {
        "colab": {
          "base_uri": "https://localhost:8080/"
        },
        "id": "aDhflJF-gzRn",
        "outputId": "4621b740-16db-4d11-c84b-f79f06fc8b9c"
      },
      "execution_count": null,
      "outputs": [
        {
          "output_type": "execute_result",
          "data": {
            "text/plain": [
              "((22901, 1000, 6), (22901, 1000), (100, 1000, 6), (100, 1000))"
            ]
          },
          "metadata": {},
          "execution_count": 8
        }
      ]
    },
    {
      "cell_type": "code",
      "source": [
        "np.isnan(x_train).sum(), np.isnan(y_train).sum(), np.isnan(x_test).sum(), np.isnan(y_test).sum()"
      ],
      "metadata": {
        "colab": {
          "base_uri": "https://localhost:8080/"
        },
        "id": "z7w1lFCmg4ZK",
        "outputId": "c6331da5-4757-448f-8a36-ef04abf62444"
      },
      "execution_count": null,
      "outputs": [
        {
          "output_type": "execute_result",
          "data": {
            "text/plain": [
              "(0, 0, 0, 0)"
            ]
          },
          "metadata": {},
          "execution_count": 9
        }
      ]
    },
    {
      "cell_type": "code",
      "source": [
        "import tensorflow as tf\n",
        "from tensorflow import keras as ks\n",
        "from tensorflow.keras import optimizers\n",
        "from tensorflow.keras.layers import BatchNormalization as bn\n",
        "from tensorflow.keras.metrics import Metric\n",
        "# train the model\n",
        "lr = ks.optimizers.schedules.ExponentialDecay(\n",
        "    initial_learning_rate=1e-2,\n",
        "    decay_steps=10000,\n",
        "    decay_rate=0.9)\n",
        "\n",
        "def build_model(train_x, train_y):\n",
        "\n",
        "  # define parameters\n",
        "  verbose, epochs, batch_size = 1, 1, 128\n",
        "  n_timesteps, n_features, n_outputs = train_x.shape[1], train_x.shape[2], train_y.shape[1]\n",
        "  # define model\n",
        "  model = ks.Sequential()\n",
        "  model.add(ks.layers.LSTM(200, activation='selu', input_shape=(n_timesteps, n_features)))\n",
        "  model.add(bn())\n",
        "  model.add(ks.layers.Dense(100, activation='selu'))\n",
        "  model.add(bn())\n",
        "  model.add(ks.layers.Dense(n_outputs))\n",
        "  model.compile(loss='mse', optimizer=optimizers.Adam(amsgrad=True,clipvalue=2.0))\n",
        "  # fit network\n",
        "  model.fit(train_x, train_y, epochs=epochs, batch_size=batch_size, verbose=verbose)\n",
        "  return model\n",
        "\n",
        "model = build_model(x_train, y_train)"
      ],
      "metadata": {
        "colab": {
          "base_uri": "https://localhost:8080/"
        },
        "id": "enk2yOGkg6pP",
        "outputId": "7613e480-b85a-49ca-df02-4a8f9c6aa8f6"
      },
      "execution_count": null,
      "outputs": [
        {
          "output_type": "stream",
          "name": "stdout",
          "text": [
            "WARNING:tensorflow:Layer lstm will not use cuDNN kernels since it doesn't meet the criteria. It will use a generic GPU kernel as fallback when running on GPU.\n",
            "179/179 [==============================] - 299s 2s/step - loss: 0.1075\n"
          ]
        }
      ]
    },
    {
      "cell_type": "code",
      "source": [
        "pre = model.predict(x_test)"
      ],
      "metadata": {
        "id": "hougCViwg_Bx"
      },
      "execution_count": null,
      "outputs": []
    },
    {
      "cell_type": "code",
      "source": [
        "# the blue lline is the prediction\n",
        "\n",
        "plt.plot((scaler2.inverse_transform(y_test)[0]), color=\"green\");\n",
        "plt.plot((scaler2.inverse_transform(pre)[0]), alpha=0.3);"
      ],
      "metadata": {
        "colab": {
          "base_uri": "https://localhost:8080/",
          "height": 262
        },
        "id": "phSISPtIk4c_",
        "outputId": "ba4c42c6-2a81-461b-b59d-8a17db5f64c3"
      },
      "execution_count": null,
      "outputs": [
        {
          "output_type": "display_data",
          "data": {
            "text/plain": [
              "<Figure size 432x288 with 1 Axes>"
            ],
            "image/png": "[encoded data removed]"
          },
          "metadata": {
            "needs_background": "light"
          }
        }
      ]
    },
    {
      "cell_type": "code",
      "source": [
        "pre.shape[0]"
      ],
      "metadata": {
        "colab": {
          "base_uri": "https://localhost:8080/"
        },
        "id": "s49FDA1Aqa5D",
        "outputId": "aae44946-6a06-4c5b-aeb5-25307169a557"
      },
      "execution_count": null,
      "outputs": [
        {
          "output_type": "execute_result",
          "data": {
            "text/plain": [
              "100"
            ]
          },
          "metadata": {},
          "execution_count": 26
        }
      ]
    },
    {
      "cell_type": "code",
      "source": [
        "# error for all predction 100\n",
        "mse = tf.keras.losses.MeanSquaredError()\n",
        "mse(y_test, pre).numpy(), mse(y_test[0], pre[0]).numpy()"
      ],
      "metadata": {
        "colab": {
          "base_uri": "https://localhost:8080/"
        },
        "id": "CRI34d_4Jp5b",
        "outputId": "463faa9d-7ec3-4e2d-f880-1be4c1d62cb9"
      },
      "execution_count": null,
      "outputs": [
        {
          "output_type": "execute_result",
          "data": {
            "text/plain": [
              "(0.06707445, 0.069437884)"
            ]
          },
          "metadata": {},
          "execution_count": 27
        }
      ]
    },
    {
      "cell_type": "code",
      "source": [
        "pree = pre.copy()\n",
        "for j in range(pre.shape[0]):\n",
        "  for i in range(1,pre[j].shape[0]):\n",
        "      pree[j][i] = np.mean(pre[j][max(0,i-30):i])\n",
        ""
      ],
      "metadata": {
        "id": "lln9cG9tzuFm"
      },
      "execution_count": null,
      "outputs": []
    },
    {
      "cell_type": "code",
      "source": [
        "# the blue lline is the prediction\n",
        "\n",
        "plt.plot((scaler2.inverse_transform(y_test)[0]), color=\"green\");\n",
        "plt.plot((scaler2.inverse_transform(pree)[0]), alpha=0.3);"
      ],
      "metadata": {
        "colab": {
          "base_uri": "https://localhost:8080/",
          "height": 262
        },
        "id": "wtDSpbZM0Zqy",
        "outputId": "3fb7b01c-7e0b-4448-e7bc-18cdc15c76e0"
      },
      "execution_count": null,
      "outputs": [
        {
          "output_type": "display_data",
          "data": {
            "text/plain": [
              "<Figure size 432x288 with 1 Axes>"
            ],
            "image/png": "[encoded data removed]"
          },
          "metadata": {
            "needs_background": "light"
          }
        }
      ]
    },
    {
      "cell_type": "code",
      "source": [
        "# error for all predction 100\n",
        "mse = tf.keras.losses.MeanSquaredError()\n",
        "mse(y_test, pree).numpy(), mse(y_test[0], pree[0]).numpy()"
      ],
      "metadata": {
        "colab": {
          "base_uri": "https://localhost:8080/"
        },
        "id": "cVUSfJ0DJ2fo",
        "outputId": "a0ef6f61-df35-4c15-bd6f-7363298756b8"
      },
      "execution_count": null,
      "outputs": [
        {
          "output_type": "execute_result",
          "data": {
            "text/plain": [
              "(0.03926184, 0.04146009)"
            ]
          },
          "metadata": {},
          "execution_count": 30
        }
      ]
    },
    {
      "cell_type": "code",
      "source": [
        "pree = pre.copy()\n",
        "for j in range(pre.shape[0]):\n",
        "  for i in range(1,pre[j].shape[0]):\n",
        "    if i <= 300:\n",
        "      pree[j][i] = np.min(pre[j][max(i-10,0):i])\n",
        "    elif i<= 600:\n",
        "      pree[j][i] = np.mean(pre[j][i-10:i])\n",
        "    else :\n",
        "      pree[j][i] = np.max(pre[j][i-10:i])"
      ],
      "metadata": {
        "id": "ccU-Phhmlicb"
      },
      "execution_count": null,
      "outputs": []
    },
    {
      "cell_type": "code",
      "source": [
        "scaler2.inverse_transform(pre)[0]"
      ],
      "metadata": {
        "colab": {
          "base_uri": "https://localhost:8080/"
        },
        "id": "-PoZzabCnfQI",
        "outputId": "48bb1102-22a0-4c14-fb31-123b86906458"
      },
      "execution_count": null,
      "outputs": [
        {
          "output_type": "execute_result",
          "data": {
            "text/plain": [
              "array([1.3749641, 1.3596032, 1.3830947, 1.3669779, 1.3509393, 1.3390394,\n",
              "       1.370027 , 1.3806014, 1.3532945, 1.3650773, 1.3739012, 1.3815725,\n",
              "       1.3597202, 1.3730084, 1.3543863, 1.3667089, 1.3712466, 1.353416 ,\n",
              "       1.367712 , 1.3854004, 1.3706571, 1.3676554, 1.375808 , 1.3714921,\n",
              "       1.3709679, 1.3612995, 1.3809716, 1.363755 , 1.3451543, 1.3808078,\n",
              "       1.3525965, 1.3683941, 1.364727 , 1.3555939, 1.3733419, 1.3650459,\n",
              "       1.3430152, 1.375946 , 1.3290803, 1.3665048, 1.3804108, 1.3591449,\n",
              "       1.3686838, 1.3785809, 1.3384444, 1.3543749, 1.3779926, 1.3652959,\n",
              "       1.3834401, 1.3756945, 1.3725281, 1.3616644, 1.3796144, 1.3816717,\n",
              "       1.3639966, 1.3496084, 1.3621372, 1.375289 , 1.3522204, 1.3822277,\n",
              "       1.3704973, 1.3700093, 1.3596405, 1.3873231, 1.3698502, 1.3813387,\n",
              "       1.3575882, 1.3630403, 1.3654324, 1.3689888, 1.3534863, 1.3735129,\n",
              "       1.372185 , 1.3472397, 1.366541 , 1.3775736, 1.3738931, 1.3678099,\n",
              "       1.3776884, 1.362795 , 1.3563137, 1.3495414, 1.3838743, 1.3579677,\n",
              "       1.375356 , 1.3436674, 1.3521345, 1.3690457, 1.3598346, 1.371581 ,\n",
              "       1.3623394, 1.3679335, 1.3542933, 1.3759234, 1.3597292, 1.3574126,\n",
              "       1.3598986, 1.3556188, 1.3751804, 1.359627 , 1.3591145, 1.3464395,\n",
              "       1.3393646, 1.3468828, 1.3479625, 1.3627565, 1.3874267, 1.3542973,\n",
              "       1.3733777, 1.3789581, 1.3823761, 1.3629197, 1.3808156, 1.336667 ,\n",
              "       1.3477668, 1.3809991, 1.3559599, 1.3636407, 1.3872979, 1.3473814,\n",
              "       1.3605661, 1.3913903, 1.354809 , 1.3388237, 1.3340625, 1.3573081,\n",
              "       1.3574157, 1.354386 , 1.3855973, 1.3459153, 1.3600467, 1.3825756,\n",
              "       1.368039 , 1.3738708, 1.3369889, 1.3477896, 1.3722477, 1.3545785,\n",
              "       1.3330349, 1.3882066, 1.3427604, 1.3612226, 1.354313 , 1.3494258,\n",
              "       1.3705713, 1.365375 , 1.3617831, 1.3737556, 1.3581663, 1.3512589,\n",
              "       1.3515223, 1.3556414, 1.3526623, 1.3898292, 1.3275132, 1.3736378,\n",
              "       1.356805 , 1.3510801, 1.3856325, 1.3419914, 1.3580042, 1.3587514,\n",
              "       1.3661417, 1.3537116, 1.3756545, 1.3895495, 1.3362836, 1.3683097,\n",
              "       1.3723295, 1.3610362, 1.3551027, 1.3673949, 1.3663388, 1.3784838,\n",
              "       1.3698556, 1.3572807, 1.3607179, 1.3434771, 1.3908143, 1.3493718,\n",
              "       1.3611501, 1.3660012, 1.3830669, 1.3826405, 1.3618895, 1.3773149,\n",
              "       1.34099  , 1.3525038, 1.373009 , 1.3674569, 1.3711867, 1.3740555,\n",
              "       1.3579047, 1.3461355, 1.3565961, 1.3559318, 1.3923911, 1.3500503,\n",
              "       1.366521 , 1.3531079, 1.3547599, 1.3480641, 1.3782598, 1.3648963,\n",
              "       1.3547567, 1.3859794, 1.3514683, 1.3655424, 1.3761169, 1.352724 ,\n",
              "       1.350546 , 1.3655168, 1.3658353, 1.3626751, 1.3820877, 1.3757133,\n",
              "       1.366476 , 1.3463496, 1.3640045, 1.3681736, 1.359485 , 1.3561771,\n",
              "       1.353668 , 1.3741595, 1.3688155, 1.362885 , 1.3712331, 1.3657602,\n",
              "       1.3601393, 1.3510156, 1.3463807, 1.347287 , 1.348542 , 1.3618017,\n",
              "       1.3689175, 1.3734123, 1.357706 , 1.3565933, 1.3772169, 1.3644261,\n",
              "       1.3742214, 1.3612039, 1.3550677, 1.3442361, 1.3729753, 1.3578815,\n",
              "       1.3604596, 1.359108 , 1.3825787, 1.3594711, 1.353118 , 1.3613268,\n",
              "       1.3757613, 1.3553938, 1.3673697, 1.364518 , 1.3559308, 1.3492001,\n",
              "       1.358081 , 1.3535342, 1.3557638, 1.3868134, 1.3481975, 1.3588659,\n",
              "       1.377092 , 1.3563886, 1.3819771, 1.3666793, 1.3749807, 1.3718847,\n",
              "       1.3464211, 1.3729589, 1.3597792, 1.3521618, 1.369375 , 1.3536927,\n",
              "       1.3555146, 1.359819 , 1.3820648, 1.3465334, 1.3668209, 1.3609775,\n",
              "       1.3822546, 1.3297056, 1.3692743, 1.3771894, 1.3389465, 1.3584486,\n",
              "       1.3821105, 1.3646178, 1.3562607, 1.3784614, 1.3483458, 1.3448005,\n",
              "       1.3516829, 1.3376797, 1.3511593, 1.3535191, 1.3582407, 1.3890926,\n",
              "       1.3744174, 1.3445247, 1.3729621, 1.3567711, 1.3582078, 1.3816305,\n",
              "       1.3586724, 1.3559889, 1.3657906, 1.3637433, 1.3656603, 1.3419776,\n",
              "       1.3575028, 1.3489405, 1.3508488, 1.3715031, 1.3536215, 1.3725001,\n",
              "       1.3538862, 1.3727982, 1.3670725, 1.3403893, 1.336708 , 1.3574214,\n",
              "       1.3701615, 1.3803585, 1.3664389, 1.37048  , 1.3614132, 1.3709677,\n",
              "       1.3474915, 1.3589948, 1.3464743, 1.3711168, 1.3473372, 1.3726566,\n",
              "       1.3563135, 1.3695294, 1.3556395, 1.3713067, 1.3778703, 1.3641238,\n",
              "       1.3512764, 1.3537414, 1.34523  , 1.3387982, 1.3598759, 1.3787143,\n",
              "       1.3547395, 1.3741239, 1.3547661, 1.3748077, 1.3783314, 1.3395998,\n",
              "       1.3702639, 1.3584336, 1.3744919, 1.3770703, 1.3619361, 1.3594604,\n",
              "       1.3609205, 1.3556628, 1.3700836, 1.3671467, 1.3689227, 1.3539572,\n",
              "       1.3521103, 1.3707801, 1.3784715, 1.3529733, 1.3528355, 1.3705641,\n",
              "       1.3781371, 1.3525864, 1.361787 , 1.3643713, 1.3728985, 1.3560627,\n",
              "       1.3558058, 1.3586819, 1.3654639, 1.347997 , 1.3771183, 1.3695242,\n",
              "       1.3430183, 1.3376147, 1.3550725, 1.3871938, 1.3424436, 1.3626895,\n",
              "       1.3553917, 1.3523493, 1.3732411, 1.3552295, 1.3498727, 1.3420347,\n",
              "       1.3579203, 1.3705512, 1.3623159, 1.3411264, 1.3776234, 1.379884 ,\n",
              "       1.3597194, 1.3406856, 1.3763173, 1.3454667, 1.3435552, 1.3430156,\n",
              "       1.3299803, 1.3485817, 1.3227066, 1.3608444, 1.345126 , 1.359873 ,\n",
              "       1.3532337, 1.3732489, 1.3417215, 1.3670881, 1.36736  , 1.358789 ,\n",
              "       1.3587624, 1.3571769, 1.3566957, 1.3467948, 1.3547567, 1.3765559,\n",
              "       1.3752048, 1.3780569, 1.3606339, 1.3540572, 1.3541139, 1.3414491,\n",
              "       1.3402632, 1.3817476, 1.377843 , 1.3709788, 1.3513591, 1.35913  ,\n",
              "       1.3798958, 1.3519088, 1.3526933, 1.3551863, 1.376012 , 1.3468709,\n",
              "       1.3595437, 1.3656663, 1.3536034, 1.348758 , 1.3485526, 1.3550054,\n",
              "       1.3777266, 1.3514326, 1.3908461, 1.3441244, 1.353851 , 1.379022 ,\n",
              "       1.3623211, 1.3897519, 1.3756676, 1.3521361, 1.3798372, 1.3533348,\n",
              "       1.3732405, 1.3586631, 1.363678 , 1.3696833, 1.3777808, 1.3504305,\n",
              "       1.3614205, 1.3557407, 1.3594671, 1.3410844, 1.3542573, 1.3620946,\n",
              "       1.354979 , 1.3525262, 1.3621396, 1.3531327, 1.357038 , 1.3630034,\n",
              "       1.3860897, 1.3771379, 1.3573006, 1.3476423, 1.3524553, 1.3566077,\n",
              "       1.3642273, 1.3681341, 1.3545533, 1.3434134, 1.3617518, 1.3784747,\n",
              "       1.3612658, 1.362941 , 1.3621814, 1.3371918, 1.3685639, 1.362562 ,\n",
              "       1.3627329, 1.3489829, 1.3664037, 1.3418546, 1.3634369, 1.3416611,\n",
              "       1.3546666, 1.3671435, 1.3749063, 1.3621545, 1.3527982, 1.3439765,\n",
              "       1.3541412, 1.3463689, 1.3439932, 1.3642148, 1.3532048, 1.3668407,\n",
              "       1.3557124, 1.3590329, 1.3663985, 1.375303 , 1.3781765, 1.3381802,\n",
              "       1.3706506, 1.343607 , 1.3594077, 1.34006  , 1.3413328, 1.3521655,\n",
              "       1.3646766, 1.3554485, 1.3615161, 1.3470865, 1.3417639, 1.3690726,\n",
              "       1.3724003, 1.3577117, 1.357043 , 1.3679405, 1.356688 , 1.3692   ,\n",
              "       1.3674092, 1.366767 , 1.3572879, 1.3712602, 1.3577108, 1.3796563,\n",
              "       1.3480875, 1.3725408, 1.3780254, 1.3740553, 1.4008877, 1.3510929,\n",
              "       1.3465042, 1.3553255, 1.3407642, 1.3604327, 1.3359835, 1.3535014,\n",
              "       1.3723941, 1.3809577, 1.3513211, 1.3484575, 1.3614767, 1.3642274,\n",
              "       1.3481288, 1.3696886, 1.3631997, 1.3550185, 1.3705504, 1.3482823,\n",
              "       1.3535098, 1.3606247, 1.3725657, 1.3535527, 1.3420229, 1.3564253,\n",
              "       1.3858998, 1.3637581, 1.3723413, 1.3650162, 1.3652077, 1.3430263,\n",
              "       1.3623804, 1.3971064, 1.3545843, 1.3375539, 1.334983 , 1.3621436,\n",
              "       1.349634 , 1.3596927, 1.3332905, 1.3754314, 1.337302 , 1.3587036,\n",
              "       1.3553077, 1.3213432, 1.3351246, 1.3597202, 1.3637524, 1.3347303,\n",
              "       1.3846138, 1.3581258, 1.3554559, 1.3579146, 1.366188 , 1.3604914,\n",
              "       1.3534418, 1.3660156, 1.365404 , 1.3418949, 1.3684921, 1.3643897,\n",
              "       1.3604718, 1.3414996, 1.348477 , 1.3652259, 1.370835 , 1.3488541,\n",
              "       1.3877139, 1.3624288, 1.3671991, 1.3589753, 1.373956 , 1.3876015,\n",
              "       1.355484 , 1.3657676, 1.3514519, 1.3558571, 1.3520555, 1.3660376,\n",
              "       1.3592677, 1.3610504, 1.3645577, 1.3643094, 1.3487397, 1.3587947,\n",
              "       1.3495753, 1.3389077, 1.3434839, 1.344359 , 1.3429619, 1.3610265,\n",
              "       1.345876 , 1.3817009, 1.350537 , 1.3435904, 1.382478 , 1.3831278,\n",
              "       1.3692681, 1.3484832, 1.3681968, 1.3616227, 1.3821331, 1.3803546,\n",
              "       1.3846558, 1.3482144, 1.3472393, 1.3472775, 1.3666767, 1.3745828,\n",
              "       1.3433117, 1.3556842, 1.3569309, 1.3197633, 1.3377829, 1.3555093,\n",
              "       1.353408 , 1.3898807, 1.3764483, 1.3511261, 1.3668807, 1.37578  ,\n",
              "       1.3539915, 1.3451308, 1.3575586, 1.3784693, 1.3557608, 1.3452982,\n",
              "       1.3658221, 1.3518419, 1.3431994, 1.3500277, 1.3602867, 1.343255 ,\n",
              "       1.3586441, 1.3604064, 1.381688 , 1.349722 , 1.3436567, 1.3519658,\n",
              "       1.369135 , 1.3698776, 1.3481411, 1.3598529, 1.3783715, 1.3595555,\n",
              "       1.3703198, 1.3692607, 1.3754723, 1.3521749, 1.3758304, 1.3609542,\n",
              "       1.3626076, 1.3653265, 1.3491155, 1.3241125, 1.3406326, 1.3487338,\n",
              "       1.353839 , 1.3768804, 1.3733126, 1.368722 , 1.3607289, 1.3557885,\n",
              "       1.3515521, 1.3646436, 1.345311 , 1.3704305, 1.3633002, 1.3690864,\n",
              "       1.3560866, 1.3578107, 1.355783 , 1.3547698, 1.3588048, 1.3731087,\n",
              "       1.352289 , 1.3531748, 1.3444632, 1.3301197, 1.3545041, 1.3680859,\n",
              "       1.3612081, 1.3610373, 1.3768839, 1.3530743, 1.3694377, 1.3725665,\n",
              "       1.3562698, 1.3651036, 1.3621933, 1.3496764, 1.3464657, 1.3635743,\n",
              "       1.3593667, 1.3410782, 1.355973 , 1.3620553, 1.3621883, 1.3787986,\n",
              "       1.3418921, 1.3681284, 1.3510394, 1.345288 , 1.3521774, 1.3764647,\n",
              "       1.3547478, 1.3600377, 1.3670508, 1.3658834, 1.3598007, 1.3499322,\n",
              "       1.3519195, 1.3580908, 1.3613687, 1.3634217, 1.3293587, 1.3492024,\n",
              "       1.3465476, 1.3636018, 1.348859 , 1.3549868, 1.3575144, 1.3714436,\n",
              "       1.3419244, 1.366497 , 1.3633038, 1.4010724, 1.352022 , 1.3479131,\n",
              "       1.3477725, 1.3496878, 1.3638732, 1.3501177, 1.3399374, 1.373014 ,\n",
              "       1.3622233, 1.3579949, 1.3779231, 1.3857533, 1.3442073, 1.3521116,\n",
              "       1.3534325, 1.3281989, 1.3556536, 1.3786658, 1.3544328, 1.3544083,\n",
              "       1.3611315, 1.3609952, 1.3948808, 1.3407296, 1.3656918, 1.3699908,\n",
              "       1.3498023, 1.3513432, 1.3723128, 1.3371521, 1.3591875, 1.3659513,\n",
              "       1.3654866, 1.3691196, 1.3317134, 1.3663843, 1.348042 , 1.3690453,\n",
              "       1.3542873, 1.36971  , 1.3742194, 1.3630189, 1.3621544, 1.3445349,\n",
              "       1.3592999, 1.369844 , 1.3489945, 1.3666915, 1.3479161, 1.3655263,\n",
              "       1.3740828, 1.3658646, 1.3456949, 1.3443233, 1.350325 , 1.3654852,\n",
              "       1.3499817, 1.371049 , 1.366405 , 1.3750015, 1.3727078, 1.3566116,\n",
              "       1.3486668, 1.3432019, 1.3510582, 1.3723409, 1.3494817, 1.3668479,\n",
              "       1.3549923, 1.3519124, 1.3365269, 1.3575217, 1.3442525, 1.3480005,\n",
              "       1.3644509, 1.3733201, 1.3438728, 1.3718493, 1.3543618, 1.3507601,\n",
              "       1.3839146, 1.3608195, 1.360207 , 1.3809818, 1.354227 , 1.3652581,\n",
              "       1.3782893, 1.3543743, 1.339473 , 1.3690153, 1.3569967, 1.3407296,\n",
              "       1.3413781, 1.350154 , 1.3554046, 1.3459653, 1.3494831, 1.3526901,\n",
              "       1.372438 , 1.3593894, 1.3622452, 1.3585469, 1.3472869, 1.3697987,\n",
              "       1.3524721, 1.3526623, 1.3659501, 1.3714298, 1.3734845, 1.357959 ,\n",
              "       1.3479178, 1.3648865, 1.3672274, 1.349678 , 1.3436643, 1.3420105,\n",
              "       1.3670946, 1.3693839, 1.3665086, 1.3575276, 1.344436 , 1.35987  ,\n",
              "       1.3451471, 1.3688751, 1.37131  , 1.3532424, 1.3589792, 1.3313396,\n",
              "       1.3569793, 1.3575162, 1.3785468, 1.3698522, 1.35165  , 1.3486944,\n",
              "       1.3565053, 1.3504658, 1.3422914, 1.3509179, 1.348242 , 1.3488545,\n",
              "       1.3389739, 1.3493229, 1.3591162, 1.3508875, 1.347099 , 1.3673913,\n",
              "       1.3500773, 1.3338251, 1.3588169, 1.3448205, 1.3427441, 1.3548205,\n",
              "       1.364321 , 1.3636591, 1.3484119, 1.347461 , 1.3567574, 1.3466346,\n",
              "       1.3656077, 1.3721957, 1.3522835, 1.3442105, 1.3713777, 1.3398613,\n",
              "       1.3548274, 1.3416008, 1.338435 , 1.3456459, 1.3658154, 1.3724076,\n",
              "       1.3423467, 1.3559102, 1.3658475, 1.3535522, 1.3547415, 1.3509095,\n",
              "       1.3748335, 1.354689 , 1.3693953, 1.3658329, 1.3561891, 1.3641831,\n",
              "       1.3633248, 1.3596511, 1.3647845, 1.3576579, 1.3575627, 1.3550061,\n",
              "       1.3511974, 1.347276 , 1.366511 , 1.3442214, 1.3771352, 1.36099  ,\n",
              "       1.3588402, 1.360595 , 1.3543575, 1.3490859, 1.355879 , 1.3549343,\n",
              "       1.3451171, 1.3725492, 1.338159 , 1.3608665, 1.3485245, 1.3578807,\n",
              "       1.3463775, 1.3786244, 1.3670751, 1.3598652, 1.3640295, 1.3530978,\n",
              "       1.3620718, 1.3566368, 1.3655454, 1.3647276, 1.3551356, 1.3538141,\n",
              "       1.3652407, 1.3530335, 1.3731427, 1.3443077], dtype=float32)"
            ]
          },
          "metadata": {},
          "execution_count": 32
        }
      ]
    },
    {
      "cell_type": "code",
      "source": [
        "# the blue lline is the prediction\n",
        "\n",
        "plt.plot((scaler2.inverse_transform(y_test)[0]), color=\"green\");\n",
        "plt.plot((scaler2.inverse_transform(pree)[0]), alpha=0.3);"
      ],
      "metadata": {
        "colab": {
          "base_uri": "https://localhost:8080/",
          "height": 262
        },
        "id": "UHd5crwZmGRr",
        "outputId": "8744a499-ae06-4941-f2bf-212bea841687"
      },
      "execution_count": null,
      "outputs": [
        {
          "output_type": "display_data",
          "data": {
            "text/plain": [
              "<Figure size 432x288 with 1 Axes>"
            ],
            "image/png": "[encoded data removed]"
          },
          "metadata": {
            "needs_background": "light"
          }
        }
      ]
    },
    {
      "cell_type": "code",
      "source": [
        "# error for all predction 100\n",
        "mse = tf.keras.losses.MeanSquaredError()\n",
        "mse(y_test, pree).numpy(), mse(y_test[0], pree[0]).numpy()"
      ],
      "metadata": {
        "colab": {
          "base_uri": "https://localhost:8080/"
        },
        "id": "jKoRa6r_k7Dp",
        "outputId": "28946a7f-be68-4ca7-b856-b6a7c06822a8"
      },
      "execution_count": null,
      "outputs": [
        {
          "output_type": "execute_result",
          "data": {
            "text/plain": [
              "(0.074122995, 0.07910838)"
            ]
          },
          "metadata": {},
          "execution_count": 34
        }
      ]
    },
    {
      "cell_type": "code",
      "source": [
        "# error for prediction of one exmaple\n",
        "mse(y_test[0], pree[0]).numpy()"
      ],
      "metadata": {
        "colab": {
          "base_uri": "https://localhost:8080/"
        },
        "id": "vpMt_naOlB_6",
        "outputId": "1d5a9c66-edc5-4152-c3af-48843a63b3de"
      },
      "execution_count": null,
      "outputs": [
        {
          "output_type": "execute_result",
          "data": {
            "text/plain": [
              "0.07910838"
            ]
          },
          "metadata": {},
          "execution_count": 35
        }
      ]
    },
    {
      "cell_type": "code",
      "source": [
        "model.save('model_gbpusd.save',save_format='h5')"
      ],
      "metadata": {
        "id": "VKEyaUgElHbA"
      },
      "execution_count": null,
      "outputs": []
    }
  ]
}